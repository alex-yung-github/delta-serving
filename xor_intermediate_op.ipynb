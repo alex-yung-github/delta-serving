{
 "cells": [
  {
   "cell_type": "code",
   "execution_count": 2,
   "metadata": {},
   "outputs": [],
   "source": [
    "import numpy as np\n",
    "\n",
    "def bitwise_xor(a, b):\n",
    "    \"\"\"Scalar XOR: a ^ b = a + b - 2 * (a & b)\"\"\"\n",
    "    return a + b - 2 * (a & b)\n",
    "\n",
    "def matrix_xor(M_a, M_b):\n",
    "    \"\"\"\n",
    "    Computes element-wise a XOR b for numpy arrays a and b using the arithmetic rearrangement:\n",
    "    M_a ^ M_b = M_a + b - 2 * (M_a & M_b)\n",
    "    Assumes a and b are numpy arrays of non-negative integers with compatible shapes.\n",
    "    \"\"\"\n",
    "    return M_a + M_b - 2 * np.bitwise_and(M_a, M_b)\n",
    "\n",
    "def x_times_matrix_xor(x, M_a, M_b):\n",
    "    \"\"\"\n",
    "    Computes x @ (M_a XOR M_b) where XOR is element-wise, and @ is matrix multiplication.\n",
    "    Assumes x is a numpy array (matrix), and a, b are numpy arrays (matrices) of non-negative integers\n",
    "    with shapes such that matrix multiplication is valid (x.shape[1] == a.shape[0], and a.shape == b.shape).\n",
    "    \"\"\"\n",
    "    xor_ab = matrix_xor(M_a, M_b)\n",
    "    return np.matmul(x, xor_ab)"
   ]
  },
  {
   "cell_type": "code",
   "execution_count": 4,
   "metadata": {},
   "outputs": [
    {
     "name": "stdout",
     "output_type": "stream",
     "text": [
      "a=1, b=2: impl=3 == expected=3 == builtin=3\n",
      "a=3, b=1: impl=2 == expected=2 == builtin=2\n",
      "a=0, b=0: impl=0 == expected=0 == builtin=0\n",
      "a=7, b=7: impl=0 == expected=0 == builtin=0\n",
      "a=12345, b=67890: impl=80139 == expected=80139 == builtin=80139\n"
     ]
    }
   ],
   "source": [
    "tests_scalar = [\n",
    "    (1, 2, 3),\n",
    "    (3, 1, 2),\n",
    "    (0, 0, 0),\n",
    "    (7, 7, 0),\n",
    "    (12345, 67890, 80139)\n",
    "]\n",
    "for a, b, expected in tests_scalar:\n",
    "    impl = bitwise_xor(a, b)\n",
    "    builtin = np.bitwise_xor(a, b)\n",
    "    print(f\"a={a}, b={b}: impl={impl} == expected={expected} == builtin={builtin}\")"
   ]
  },
  {
   "cell_type": "code",
   "execution_count": 5,
   "metadata": {},
   "outputs": [
    {
     "name": "stdout",
     "output_type": "stream",
     "text": [
      "[3 2]\n",
      "[3 2]\n",
      "[0 0]\n",
      "[6 0]\n"
     ]
    }
   ],
   "source": [
    "a_vec = np.array([1, 3])\n",
    "b_vec = np.array([2, 1])\n",
    "print(matrix_xor(a_vec, b_vec))  # [3 2]\n",
    "print(np.bitwise_xor(a_vec, b_vec))  # [3 2]\n",
    "\n",
    "a_zero = np.array([0, 0])\n",
    "print(matrix_xor(a_zero, a_zero))  # [0 0]\n",
    "\n",
    "a_mixed = np.array([5, 7])\n",
    "b_mixed = np.array([3, 7])\n",
    "print(matrix_xor(a_mixed, b_mixed))  # [6 0]"
   ]
  },
  {
   "cell_type": "code",
   "execution_count": null,
   "metadata": {},
   "outputs": [],
   "source": []
  }
 ],
 "metadata": {
  "kernelspec": {
   "display_name": "venv",
   "language": "python",
   "name": "python3"
  },
  "language_info": {
   "codemirror_mode": {
    "name": "ipython",
    "version": 3
   },
   "file_extension": ".py",
   "mimetype": "text/x-python",
   "name": "python",
   "nbconvert_exporter": "python",
   "pygments_lexer": "ipython3",
   "version": "3.13.2"
  }
 },
 "nbformat": 4,
 "nbformat_minor": 2
}
